{
 "cells": [
  {
   "cell_type": "markdown",
   "metadata": {},
   "source": [
    "**Author:** Anowar J. Shajib\n",
    "\n",
    "This notebook introduces various softwares to apply Bayesian inference on data. The purpose is to only introduce them while keeping in touch with the basic concepts behind the Bayesian inference. For more details on how to use these softwares (`emcee`, `dynesty`, etc.), check their respective documentations. They have a useful number of illulstrative examples."
   ]
  },
  {
   "cell_type": "markdown",
   "metadata": {},
   "source": [
    "## Imports"
   ]
  },
  {
   "cell_type": "markdown",
   "metadata": {},
   "source": [
    "The following `python` packages are used in this notebook, in addition to those that come with a standard anaconda installation."
   ]
  },
  {
   "cell_type": "raw",
   "metadata": {},
   "source": [
    "!pip install tensorflow==2.0.0\n",
    "!pip install tensorflow_probability=0.8.0\n",
    "!pip install emcee\n",
    "!pip install dynesty\n",
    "!pip install corner"
   ]
  },
  {
   "cell_type": "code",
   "execution_count": 1,
   "metadata": {},
   "outputs": [],
   "source": [
    "import numpy as np\n",
    "import matplotlib.pyplot as plt\n",
    "import seaborn as sns\n",
    "import tqdm\n",
    "\n",
    "sns.set_context(context='talk',font_scale=0.7)"
   ]
  },
  {
   "cell_type": "markdown",
   "metadata": {},
   "source": [
    "## Generate data"
   ]
  },
  {
   "cell_type": "code",
   "execution_count": 2,
   "metadata": {},
   "outputs": [
    {
     "data": {
      "text/plain": [
       "Text(0, 0.5, 'y')"
      ]
     },
     "execution_count": 2,
     "metadata": {},
     "output_type": "execute_result"
    },
    {
     "data": {
      "image/png": "[encoded data removed]",
      "text/plain": [
       "<Figure size 432x288 with 1 Axes>"
      ]
     },
     "metadata": {
      "needs_background": "light"
     },
     "output_type": "display_data"
    }
   ],
   "source": [
    "N = 64\n",
    "x = np.random.uniform(low=-1, high=1, size=N)\n",
    "\n",
    "y_true = 0.5 + 0.4*x - 0.5*x**2 + x**3\n",
    "y_uncertainty = 0.2\n",
    "\n",
    "y = np.random.normal(loc=y_true, scale=y_uncertainty)\n",
    "\n",
    "plt.errorbar(x, y, yerr=y_uncertainty, ls='none', marker='o', markersize=5)\n",
    "plt.xlabel('x')\n",
    "plt.ylabel('y')"
   ]
  },
  {
   "cell_type": "markdown",
   "metadata": {},
   "source": [
    "# Maximum Likelihood Estimate (MLE): the Frequentist way of life"
   ]
  },
  {
   "cell_type": "markdown",
   "metadata": {},
   "source": [
    "This notebook uses $x$ (or, $\\mathbf{x}$) and $y$ (or, $\\mathbf{y}$) to denote data points (or, vector), $\\hat{x}$ for a given arbitrary value, and $\\hat{y}$ for the predicted value for given $\\hat{x}$. The model to fit a line is: $\\hat{y} = m\\hat{x} +b$. The likelihood function for Gaussian noise is\n",
    "\n",
    "$$p(\\hat{y} \\mid m, b) = \\prod_i \\frac{1}{\\sqrt{2 \\pi} \\sigma_i}\\exp(-\\chi_i^2/2),$$\n",
    "\n",
    "with \n",
    "\n",
    "$$\\chi_i^2 = \\frac{(y_i - mx_i - b)^2}{\\sigma_i^2}.$$\n",
    "\n",
    "Maximizing the likelihood is thus equivalent to minimizing the $\\chi^2 = \\sum_i \\chi_i^2$. Then, $\\mathbf{b}$ = $[m, b]$ can be expressed using the matrix $\\textbf{X} = [\\mathbf{x}, \\mathbf{1}]$ and the covariance matrix $\\textbf{C}$ as \n",
    "\n",
    "$$ \\mathbf{b} = (\\textbf{X}^\\top \\textbf{C}^{-1} \\textbf{X})^{-1} \\textbf{X}^\\top \\textbf{C}^{-1} \\mathbf{y} .$$"
   ]
  },
  {
   "cell_type": "code",
   "execution_count": 3,
   "metadata": {},
   "outputs": [
    {
     "name": "stdout",
     "output_type": "stream",
     "text": [
      "m: 1.04, b: 0.37\n"
     ]
    },
    {
     "data": {
      "image/png": "[encoded data removed]",
      "text/plain": [
       "<Figure size 432x288 with 1 Axes>"
      ]
     },
     "metadata": {
      "needs_background": "light"
     },
     "output_type": "display_data"
    }
   ],
   "source": [
    "X = np.array([[a, 1] for a in x])\n",
    "\n",
    "C_inv = np.zeros((len(y), len(y)))\n",
    "np.fill_diagonal(C_inv, 1/y_uncertainty**2)\n",
    "\n",
    "M1 = np.matmul(np.matmul(X.transpose(), C_inv), X)\n",
    "M2 = np.matmul(np.matmul(X.transpose(), C_inv), y)\n",
    "\n",
    "[m, b] = np.matmul(np.linalg.inv(M1), M2)\n",
    "\n",
    "print('m: {:.2f}, b: {:.2f}'.format(m, b))\n",
    "\n",
    "x_test = np.linspace(-1.5, 1.5, 100)\n",
    "\n",
    "plt.errorbar(x, y, yerr=y_uncertainty, ls='none', marker='o', markersize=5)\n",
    "plt.plot(x_test, m*x_test+b)\n",
    "plt.xlabel('x')\n",
    "plt.ylabel('y')\n",
    "plt.title('MLE');"
   ]
  },
  {
   "cell_type": "markdown",
   "metadata": {},
   "source": [
    "# Bayesian inference"
   ]
  },
  {
   "cell_type": "markdown",
   "metadata": {},
   "source": [
    "In the Bayesian framework, we want to infer \n",
    "\n",
    "$$p(m, b \\mid M, D) = \\frac{p(D \\mid m, b, M) p(m, b \\mid M)}{p(D \\mid M)}$$ \n",
    "\n",
    "where $M$ is the model, $D = \\{\\mathbf{x}, \\mathbf{y}\\}$ is the data. $p(m, b \\mid M, D)$ is called the *posterior* of $m$ and $b$, $p(D \\mid m, b, M)$ is the *likelihood*, $p(m, b \\mid M)$ is the *prior* for model parameters, and $p(D \\mid M) = \\int p(D \\mid m, b, M)\\ p(m, b \\mid M)\\ \\mathrm{d}m\\ \\mathrm{d}b$ is the *model evidence*.\n",
    "\n",
    "We will use MCMC to sample from the posterior distribution for a linear model: $\\hat{y} = m\\hat{x} + b$."
   ]
  },
  {
   "cell_type": "code",
   "execution_count": 4,
   "metadata": {},
   "outputs": [],
   "source": [
    "# uniform prior on m and b\n",
    "def log_prior(params):\n",
    "    m, b = params\n",
    "    \n",
    "    if not -10 < m < 10:\n",
    "        return -np.inf\n",
    "    \n",
    "    if not -5 < b < 5:\n",
    "        return -np.inf\n",
    "    \n",
    "    return 0.\n",
    "\n",
    "    \n",
    "# likelihood function for Gaussian noise\n",
    "def log_likelihood(params):\n",
    "    m, b = params\n",
    "    \n",
    "    model = m*x + b\n",
    "    return -0.5 * np.sum((y - model)**2 / y_uncertainty**2) \\\n",
    "                - float(len(y)) * (0.5 * np.log(2*np.pi) + np.log(y_uncertainty))\n",
    "\n",
    "\n",
    "def log_probability(params):\n",
    "    return log_prior(params) + log_likelihood(params)"
   ]
  },
  {
   "cell_type": "code",
   "execution_count": 5,
   "metadata": {},
   "outputs": [
    {
     "name": "stderr",
     "output_type": "stream",
     "text": [
      "100%|██████████| 1000/1000 [00:03<00:00, 298.98it/s]\n"
     ]
    }
   ],
   "source": [
    "import emcee\n",
    "\n",
    "nwalkers, ndim = 20, 2\n",
    "\n",
    "pos = np.random.normal(loc=[1, 0], scale=[0.2, 0.2], size=(nwalkers, ndim))\n",
    "\n",
    "\n",
    "sampler = emcee.EnsembleSampler(nwalkers, ndim, log_probability)\n",
    "sampler.run_mcmc(pos, 1000, progress=True);"
   ]
  },
  {
   "cell_type": "code",
   "execution_count": 6,
   "metadata": {},
   "outputs": [
    {
     "data": {
      "image/png": "[encoded data removed]",
      "text/plain": [
       "<Figure size 396x396 with 4 Axes>"
      ]
     },
     "metadata": {
      "needs_background": "light"
     },
     "output_type": "display_data"
    }
   ],
   "source": [
    "import corner\n",
    "\n",
    "flat_samples = sampler.get_chain(discard=500, thin=10, flat=True)\n",
    "    \n",
    "corner.corner(flat_samples, labels=[r'$m$', r'$b$'], show_titles=True);"
   ]
  },
  {
   "cell_type": "markdown",
   "metadata": {},
   "source": [
    "The above plot shows the posterior distribution of $m$ and $b$. The means of the distribution are pretty close to the MLEs."
   ]
  },
  {
   "cell_type": "markdown",
   "metadata": {},
   "source": [
    "### Plot the credible region of the predicted $\\hat{y}$"
   ]
  },
  {
   "cell_type": "code",
   "execution_count": 7,
   "metadata": {},
   "outputs": [
    {
     "data": {
      "application/vnd.jupyter.widget-view+json": {
       "model_id": "3a2941b9299b4c4ebf1ab29e1a6b715b",
       "version_major": 2,
       "version_minor": 0
      },
      "text/plain": [
       "HBox(children=(IntProgress(value=0), HTML(value='')))"
      ]
     },
     "metadata": {},
     "output_type": "display_data"
    },
    {
     "name": "stdout",
     "output_type": "stream",
     "text": [
      "\n"
     ]
    }
   ],
   "source": [
    "x_test = np.linspace(-1.5, 1.5, 1000)\n",
    "y_pred_list = []\n",
    "\n",
    "for i in tqdm.tqdm_notebook(range(100)):\n",
    "    m, b = flat_samples[i]\n",
    "    y_pred = m*x_test + b\n",
    "    y_pred_list.append(y_pred)\n",
    "\n",
    "y_mean = np.mean(y_pred_list, axis=0)\n",
    "y_sigma = np.std(y_pred_list, axis=0)"
   ]
  },
  {
   "cell_type": "code",
   "execution_count": 8,
   "metadata": {},
   "outputs": [
    {
     "data": {
      "image/png": "[encoded data removed]",
      "text/plain": [
       "<Figure size 432x288 with 1 Axes>"
      ]
     },
     "metadata": {
      "needs_background": "light"
     },
     "output_type": "display_data"
    }
   ],
   "source": [
    "plt.errorbar(x, y, yerr=y_uncertainty, marker='o', ls='none', label='Data', markersize=5)\n",
    "plt.plot(x_test, y_mean, '-', label='Inferred mean');\n",
    "\n",
    "        \n",
    "plt.fill_between(x_test,\n",
    "                y1=y_mean + 2*y_sigma,\n",
    "                y2=y_mean - 2*y_sigma,\n",
    "                alpha=0.25, label=r'2$\\sigma$ credible interval', zorder=-20)\n",
    "plt.title(r'Baysian linear regression')\n",
    "plt.legend();"
   ]
  },
  {
   "cell_type": "markdown",
   "metadata": {},
   "source": [
    "The orange line corresponds to the means of the posteriors for $m$ and $b$. The blue shaded region is 2$\\sigma$ interval for $p(\\hat{y} \\mid \\hat{x}, M, D)$, which is the posterior predictive distribution of $\\hat{y}$."
   ]
  },
  {
   "cell_type": "markdown",
   "metadata": {},
   "source": [
    "## Posterior predictive distribution"
   ]
  },
  {
   "cell_type": "markdown",
   "metadata": {},
   "source": [
    "If we want to predict $\\hat{y}$ for a given $\\hat{x}$ with our model, then we are interested in the posterior predictive distribution $p(\\hat{y} \\mid \\hat{x}, D)$. With our inference from only one model, the posterior predictive distribution will be model dependent $p(\\hat{y} \\mid \\hat{x}, M, D)$, which is infact the blue shaded region in the above plot. To make this distribution model independent, we need to integrate/sum over all the models as\n",
    "\n",
    "$$ p(\\hat{y} \\mid \\hat{x}, D) = \\sum_{M} p(\\hat{y} \\mid \\hat{x}, M, D) p(M \\mid D) = \\sum_{M} p(\\hat{y} \\mid \\hat{x}, D, M) \\frac{p(D \\mid M) p(M)}{p(D)} \\propto \\sum_{M} p(\\hat{y} \\mid \\hat{x}, M, D) p(D \\mid M) $$\n",
    "\n",
    "The last term on the above equation contains the evidence term $p(D \\mid M)$ and the proportionality relation holds if we equally weight all the models *a priori* and the prior $p(M)$ is uniform.\n",
    "\n",
    "We will use `dynesty` to compute model evidences using nested sampling for a few models with increasing polyonomial order, and then combine the model posteriors weighted by their evidence ratios to approximate a model-free posterior predictive distribution."
   ]
  },
  {
   "cell_type": "code",
   "execution_count": 9,
   "metadata": {},
   "outputs": [],
   "source": [
    "import dynesty\n",
    "from dynesty import plotting as dyplot"
   ]
  },
  {
   "cell_type": "markdown",
   "metadata": {},
   "source": [
    "First, with a linear model: $\\hat{y} = b + m\\hat{x}$."
   ]
  },
  {
   "cell_type": "code",
   "execution_count": 10,
   "metadata": {},
   "outputs": [],
   "source": [
    "results = []\n",
    "log_evidences = []"
   ]
  },
  {
   "cell_type": "code",
   "execution_count": 11,
   "metadata": {},
   "outputs": [
    {
     "name": "stderr",
     "output_type": "stream",
     "text": [
      "6543it [00:11, 589.91it/s, +500 | bound: 15 | nc: 1 | ncall: 27222 | eff(%): 25.872 | loglstar:   -inf < -34.848 <    inf | logz: -43.310 +/-  0.173 | dlogz:  0.000 >  0.010]"
     ]
    },
    {
     "name": "stdout",
     "output_type": "stream",
     "text": [
      "num params: # 2\n",
      "Summary\n",
      "=======\n",
      "nlive: 500\n",
      "niter: 6543\n",
      "ncall: 27222\n",
      "eff(%): 25.872\n",
      "logz: -43.310 +/-  0.173\n"
     ]
    },
    {
     "name": "stderr",
     "output_type": "stream",
     "text": [
      "\n"
     ]
    }
   ],
   "source": [
    "ndim = 2\n",
    "\n",
    "def prior_transform_lin(u):\n",
    "    \"\"\"\n",
    "    Transform unit cube samples `u` to a flat prior between in each variable.\n",
    "    \"\"\"    \n",
    "    center = np.array([0,  0.])\n",
    "    width = np.array([1, 10.])\n",
    "    \n",
    "    return width * (2. * u - 1.) + center\n",
    "\n",
    "\n",
    "def log_likelihood_lin(params):\n",
    "    b, m = params\n",
    "    \n",
    "    return -0.5 * np.sum((y - m*x -b)**2 / y_uncertainty**2) \\\n",
    "                - float(len(y)) * (0.5 * np.log(2*np.pi) + np.log(y_uncertainty))\n",
    "\n",
    "sampler = dynesty.NestedSampler(log_likelihood_lin, prior_transform_lin, ndim, nlive=500)\n",
    "\n",
    "sampler.run_nested(dlogz=0.01)\n",
    "res = sampler.results\n",
    "\n",
    "results.append(res)\n",
    "log_evidences.append(res.get('logz')[-1])\n",
    "\n",
    "print('num params: # {}'.format(ndim))\n",
    "res.summary()"
   ]
  },
  {
   "cell_type": "markdown",
   "metadata": {},
   "source": [
    "We can plot the posterior distribution sampled using `dynesty`, which is identical to the one sampled with `emcee`."
   ]
  },
  {
   "cell_type": "code",
   "execution_count": 12,
   "metadata": {},
   "outputs": [
    {
     "data": {
      "image/png": "[encoded data removed]",
      "text/plain": [
       "<Figure size 396x396 with 4 Axes>"
      ]
     },
     "metadata": {
      "needs_background": "light"
     },
     "output_type": "display_data"
    }
   ],
   "source": [
    "n_params = 2\n",
    "fg, ax = dyplot.cornerplot(res, color=sns.xkcd_rgb['bright orange'],\n",
    "                           labels=[r'$b$', r'$m$'],\n",
    "                          )\n",
    "\n",
    "plt.show()"
   ]
  },
  {
   "cell_type": "markdown",
   "metadata": {},
   "source": [
    "Now, let's increase the polynomial order of our model to some $n$: $\\hat{y}_{n} = p_0 + p_1\\hat{x} + \\dots + p_{n} \\hat{x}^{n}$, and compute evidences for all these models. Here, we take $n$ up to 7."
   ]
  },
  {
   "cell_type": "code",
   "execution_count": 13,
   "metadata": {
    "scrolled": false
   },
   "outputs": [
    {
     "name": "stderr",
     "output_type": "stream",
     "text": [
      "8882it [00:15, 558.86it/s, +500 | bound: 21 | nc: 1 | ncall: 32398 | eff(%): 28.959 | loglstar:   -inf < -20.728 <    inf | logz: -33.863 +/-  0.216 | dlogz:  0.000 >  0.010]\n",
      "203it [00:00, 1054.76it/s, bound: 0 | nc: 1 | ncall: 758 | eff(%): 26.781 | loglstar:   -inf < -20659.884 <    inf | logz: -20667.197 +/-  0.171 | dlogz: 20388.369 >  0.010]"
     ]
    },
    {
     "name": "stdout",
     "output_type": "stream",
     "text": [
      "polynomial order: 2\n",
      "num params: # 3\n",
      "Summary\n",
      "=======\n",
      "nlive: 500\n",
      "niter: 8882\n",
      "ncall: 32398\n",
      "eff(%): 28.959\n",
      "logz: -33.863 +/-  0.216\n"
     ]
    },
    {
     "name": "stderr",
     "output_type": "stream",
     "text": [
      "10899it [00:20, 520.96it/s, +500 | bound: 28 | nc: 1 | ncall: 38538 | eff(%): 29.579 | loglstar:   -inf <  7.189 <    inf | logz: -9.978 +/-  0.247 | dlogz:  0.000 >  0.010]\n",
      "0it [00:00, ?it/s]"
     ]
    },
    {
     "name": "stdout",
     "output_type": "stream",
     "text": [
      "polynomial order: 3\n",
      "num params: # 4\n",
      "Summary\n",
      "=======\n",
      "nlive: 500\n",
      "niter: 10899\n",
      "ncall: 38538\n",
      "eff(%): 29.579\n",
      "logz: -9.978 +/-  0.247\n"
     ]
    },
    {
     "name": "stderr",
     "output_type": "stream",
     "text": [
      "12362it [00:25, 484.73it/s, +500 | bound: 36 | nc: 1 | ncall: 44017 | eff(%): 29.221 | loglstar:   -inf <  8.943 <    inf | logz: -11.148 +/-  0.266 | dlogz:  0.000 >  0.010]\n",
      "0it [00:00, ?it/s]"
     ]
    },
    {
     "name": "stdout",
     "output_type": "stream",
     "text": [
      "polynomial order: 4\n",
      "num params: # 5\n",
      "Summary\n",
      "=======\n",
      "nlive: 500\n",
      "niter: 12362\n",
      "ncall: 44017\n",
      "eff(%): 29.221\n",
      "logz: -11.148 +/-  0.266\n"
     ]
    },
    {
     "name": "stderr",
     "output_type": "stream",
     "text": [
      "13729it [00:33, 408.70it/s, +500 | bound: 41 | nc: 1 | ncall: 48213 | eff(%): 29.513 | loglstar:   -inf <  9.322 <    inf | logz: -13.501 +/-  0.283 | dlogz:  0.000 >  0.010]\n",
      "0it [00:00, ?it/s]"
     ]
    },
    {
     "name": "stdout",
     "output_type": "stream",
     "text": [
      "polynomial order: 5\n",
      "num params: # 6\n",
      "Summary\n",
      "=======\n",
      "nlive: 500\n",
      "niter: 13729\n",
      "ncall: 48213\n",
      "eff(%): 29.513\n",
      "logz: -13.501 +/-  0.283\n"
     ]
    },
    {
     "name": "stderr",
     "output_type": "stream",
     "text": [
      "14554it [00:41, 353.52it/s, +500 | bound: 49 | nc: 1 | ncall: 54340 | eff(%): 27.703 | loglstar:   -inf < 11.024 <    inf | logz: -13.447 +/-  0.291 | dlogz:  0.000 >  0.010]\n"
     ]
    },
    {
     "name": "stdout",
     "output_type": "stream",
     "text": [
      "polynomial order: 6\n",
      "num params: # 7\n",
      "Summary\n",
      "=======\n",
      "nlive: 500\n",
      "niter: 14554\n",
      "ncall: 54340\n",
      "eff(%): 27.703\n",
      "logz: -13.447 +/-  0.291\n"
     ]
    }
   ],
   "source": [
    "import copy\n",
    "\n",
    "for n in range(2, 7):\n",
    "    ndim = n + 1 # number of free parameters\n",
    "    \n",
    "    # uniform prior for dynesty\n",
    "    def prior_transform_polynomial(u):\n",
    "        \"\"\"\n",
    "        Transform unit cube samples `u` to a flat prior between in each variable.\n",
    "        \"\"\"\n",
    "        center = np.array([0, 0, 0, 0, 0, 0, 0., 0., 0.])[:ndim]\n",
    "        width = np.array([1., 10., 10., 10, 10., 10, 10, 10])[:ndim]\n",
    "\n",
    "        return width * (2. * u - 1.) + center\n",
    "\n",
    "\n",
    "    def log_likelihood_polynomial(params):\n",
    "        model = 0\n",
    "        for i, p in enumerate(params):\n",
    "            model += p * x**i\n",
    "\n",
    "        return -0.5 * np.sum((y - model)**2 / y_uncertainty**2) \\\n",
    "                    - float(len(y)) * (0.5 * np.log(2*np.pi) + np.log(y_uncertainty))\n",
    "\n",
    "\n",
    "    sampler = dynesty.NestedSampler(log_likelihood_polynomial, prior_transform_polynomial, ndim, nlive=500)\n",
    "\n",
    "    sampler.run_nested(dlogz=0.01)\n",
    "    \n",
    "    results.append(copy.deepcopy(sampler.results))\n",
    "    log_evidences.append(results[-1].get('logz')[-1])\n",
    "    \n",
    "    print('polynomial order: {}'.format(n))\n",
    "    print('num params: # {}'.format(ndim))\n",
    "    results[-1].summary()"
   ]
  },
  {
   "cell_type": "code",
   "execution_count": 14,
   "metadata": {},
   "outputs": [
    {
     "name": "stdout",
     "output_type": "stream",
     "text": [
      "log(evidence) for model with polynomial order 1: -43.31\n",
      "log(evidence) for model with polynomial order 2: -33.86\n",
      "log(evidence) for model with polynomial order 3: -9.98\n",
      "log(evidence) for model with polynomial order 4: -11.15\n",
      "log(evidence) for model with polynomial order 5: -13.50\n",
      "log(evidence) for model with polynomial order 6: -13.45\n"
     ]
    }
   ],
   "source": [
    "for i, logZ in enumerate(log_evidences):\n",
    "    print('log(evidence) for model with polynomial order {}: {:.2f}'.format(i+1, logZ))"
   ]
  },
  {
   "cell_type": "markdown",
   "metadata": {},
   "source": [
    "The $\\log \\mathcal{Z}$ -- with $\\mathcal{Z}$ being the model evidence -- has peaked for a cubic model. Then, the model evidence has indeed served its purpose of highlighting better models that are balanced between underfitting (less than necessary model parameters) and overfitting (more than necessary model parameters).\n",
    "\n",
    "Now, let's combine thes posteriors of these models after weighting them by relative evidence ratio $\\mathcal{Z}/\\mathcal{Z}_{\\rm max}$. This will effectively perform a Bayesian Model Averaging (BMA) over our adopted models, in other words the resultant posterior will be marginalized over our model choices."
   ]
  },
  {
   "cell_type": "code",
   "execution_count": 15,
   "metadata": {},
   "outputs": [],
   "source": [
    "equal_weight_samples = []\n",
    "\n",
    "# samples from nested samplings comes with weights, so we resample them to have the samples equally weighted.\n",
    "for res in results:\n",
    "    samples = res.samples\n",
    "    weights = res.logwt\n",
    "    \n",
    "    equal_weight_samples.append(dynesty.utils.resample_equal(samples, np.exp(weights)/np.sum(np.exp(weights))))"
   ]
  },
  {
   "cell_type": "code",
   "execution_count": 16,
   "metadata": {
    "scrolled": false
   },
   "outputs": [
    {
     "data": {
      "application/vnd.jupyter.widget-view+json": {
       "model_id": "f6970383aa024e94af446e7cd96ac996",
       "version_major": 2,
       "version_minor": 0
      },
      "text/plain": [
       "HBox(children=(IntProgress(value=0, max=6), HTML(value='')))"
      ]
     },
     "metadata": {},
     "output_type": "display_data"
    },
    {
     "name": "stdout",
     "output_type": "stream",
     "text": [
      "Number of samples from model with order 1: 0\n",
      "Number of samples from model with order 2: 0\n",
      "Number of samples from model with order 3: 1000\n",
      "Number of samples from model with order 4: 310\n",
      "Number of samples from model with order 5: 29\n",
      "Number of samples from model with order 6: 31\n",
      "\n"
     ]
    },
    {
     "data": {
      "application/vnd.jupyter.widget-view+json": {
       "model_id": "bfc01d51231b46b7a4f8b102df097998",
       "version_major": 2,
       "version_minor": 0
      },
      "text/plain": [
       "HBox(children=(IntProgress(value=0, description='model', max=6, style=ProgressStyle(description_width='initial…"
      ]
     },
     "metadata": {},
     "output_type": "display_data"
    },
    {
     "data": {
      "application/vnd.jupyter.widget-view+json": {
       "model_id": "999e3ff413884c6c9db7b13df3874d43",
       "version_major": 2,
       "version_minor": 0
      },
      "text/plain": [
       "HBox(children=(IntProgress(value=1, bar_style='info', description='samples', max=1, style=ProgressStyle(descri…"
      ]
     },
     "metadata": {},
     "output_type": "display_data"
    },
    {
     "name": "stdout",
     "output_type": "stream",
     "text": [
      "\n"
     ]
    },
    {
     "data": {
      "application/vnd.jupyter.widget-view+json": {
       "model_id": "ac57d320e4f7432ab9ec7223a38d74df",
       "version_major": 2,
       "version_minor": 0
      },
      "text/plain": [
       "HBox(children=(IntProgress(value=1, bar_style='info', description='samples', max=1, style=ProgressStyle(descri…"
      ]
     },
     "metadata": {},
     "output_type": "display_data"
    },
    {
     "name": "stdout",
     "output_type": "stream",
     "text": [
      "\n"
     ]
    },
    {
     "data": {
      "application/vnd.jupyter.widget-view+json": {
       "model_id": "4822c81eb35c476083ca0bf2562a4aea",
       "version_major": 2,
       "version_minor": 0
      },
      "text/plain": [
       "HBox(children=(IntProgress(value=0, description='samples', max=1000, style=ProgressStyle(description_width='in…"
      ]
     },
     "metadata": {},
     "output_type": "display_data"
    },
    {
     "name": "stdout",
     "output_type": "stream",
     "text": [
      "\n"
     ]
    },
    {
     "data": {
      "application/vnd.jupyter.widget-view+json": {
       "model_id": "76587391a15e468ebb5892e53e291ea2",
       "version_major": 2,
       "version_minor": 0
      },
      "text/plain": [
       "HBox(children=(IntProgress(value=0, description='samples', max=310, style=ProgressStyle(description_width='ini…"
      ]
     },
     "metadata": {},
     "output_type": "display_data"
    },
    {
     "name": "stdout",
     "output_type": "stream",
     "text": [
      "\n"
     ]
    },
    {
     "data": {
      "application/vnd.jupyter.widget-view+json": {
       "model_id": "ffc5598ac2df4c01956892eb3e564a87",
       "version_major": 2,
       "version_minor": 0
      },
      "text/plain": [
       "HBox(children=(IntProgress(value=0, description='samples', max=29, style=ProgressStyle(description_width='init…"
      ]
     },
     "metadata": {},
     "output_type": "display_data"
    },
    {
     "name": "stdout",
     "output_type": "stream",
     "text": [
      "\n"
     ]
    },
    {
     "data": {
      "application/vnd.jupyter.widget-view+json": {
       "model_id": "59e621d9d69b4a8c9ab2f5f8ba9cfdaa",
       "version_major": 2,
       "version_minor": 0
      },
      "text/plain": [
       "HBox(children=(IntProgress(value=0, description='samples', max=31, style=ProgressStyle(description_width='init…"
      ]
     },
     "metadata": {},
     "output_type": "display_data"
    },
    {
     "name": "stdout",
     "output_type": "stream",
     "text": [
      "\n",
      "\n"
     ]
    }
   ],
   "source": [
    "n_max_evidece = 1000 # number of samples from the highest-evidence model\n",
    "\n",
    "# number of samples from other posteriors will depend on evidence ratio\n",
    "\n",
    "x_test = np.linspace(-1.5, 1.5, 1000)\n",
    "y_pred_list = []\n",
    "\n",
    "max_log_evidence = np.max(log_evidences)\n",
    "\n",
    "\n",
    "for k in tqdm.tqdm_notebook(range(len(log_evidences))):\n",
    "    log_evidence = log_evidences[k]\n",
    "    \n",
    "    print('Number of samples from model with order {}: {}'.format(\n",
    "                        k+1,\n",
    "                        int(n_max_evidece * np.exp(log_evidence - max_log_evidence))))\n",
    "\n",
    "# combine samples from the model posteriors weighted by the relative evidence ratios    \n",
    "for k in tqdm.tqdm_notebook(range(len(log_evidences)), desc='model'):\n",
    "    log_evidence = log_evidences[k]\n",
    "    \n",
    "    random_indices = np.random.randint(\n",
    "                        low=0, high=len(equal_weight_samples[k]),\n",
    "                        size=int(n_max_evidece * np.exp(log_evidence - max_log_evidence)))\n",
    "    \n",
    "    for i in tqdm.tqdm_notebook(random_indices, desc='samples'):\n",
    "        y_pred = np.zeros_like(x_test)\n",
    "        \n",
    "        ndim = len(equal_weight_samples[k][i])\n",
    "        for j in range(ndim):\n",
    "            y_pred += equal_weight_samples[k][i][j] * x_test**j\n",
    "            \n",
    "        y_pred_list.append(y_pred)\n",
    "\n",
    "\n",
    "y_mean = np.mean(y_pred_list, axis=0)\n",
    "y_sigma = np.std(y_pred_list, axis=0)"
   ]
  },
  {
   "cell_type": "code",
   "execution_count": 17,
   "metadata": {},
   "outputs": [
    {
     "data": {
      "text/plain": [
       "(1370, 1000, (1000,))"
      ]
     },
     "execution_count": 17,
     "metadata": {},
     "output_type": "execute_result"
    }
   ],
   "source": [
    "len(y_pred_list), len(y_pred_list[0]), y_mean.shape"
   ]
  },
  {
   "cell_type": "code",
   "execution_count": 18,
   "metadata": {},
   "outputs": [
    {
     "data": {
      "image/png": "[encoded data removed]",
      "text/plain": [
       "<Figure size 432x288 with 1 Axes>"
      ]
     },
     "metadata": {
      "needs_background": "light"
     },
     "output_type": "display_data"
    }
   ],
   "source": [
    "plt.errorbar(x, y, yerr=y_uncertainty, marker='o', ls='none', label='Data', markersize=5)\n",
    "plt.plot(x_test, y_mean, '-', label='Inferred mean');\n",
    "\n",
    "        \n",
    "plt.fill_between(x=x_test,\n",
    "                y1=(y_mean + 2*y_sigma).ravel(),\n",
    "                y2=(y_mean - 2*y_sigma).ravel(),\n",
    "                alpha=0.25, label=r'$2\\sigma$ Credible interval', zorder=-20)\n",
    "plt.title(r'Posterior predictive distribution $p(\\hat{y} \\mid \\hat{x}, D)$')\n",
    "plt.legend();"
   ]
  },
  {
   "cell_type": "markdown",
   "metadata": {},
   "source": [
    "This is what we should expect from a posterior predictive distribution: the credible region is narrow where we have data (along $x$), but is widens up quite a bit outside the region where the data lies."
   ]
  },
  {
   "cell_type": "markdown",
   "metadata": {},
   "source": [
    "# Regression with Tensorflow probability"
   ]
  },
  {
   "cell_type": "markdown",
   "metadata": {},
   "source": [
    "First we will do a linear regreesion with `tensorflow` to obtain MLE of $\\hat{y}$ for the same data generated above."
   ]
  },
  {
   "cell_type": "code",
   "execution_count": 19,
   "metadata": {},
   "outputs": [],
   "source": [
    "import tensorflow as tf\n",
    "import tensorflow_probability as tfp\n",
    "\n",
    "tfd = tfp.distributions"
   ]
  },
  {
   "cell_type": "code",
   "execution_count": 20,
   "metadata": {},
   "outputs": [
    {
     "data": {
      "text/plain": [
       "('2.0.0', '0.8.0')"
      ]
     },
     "execution_count": 20,
     "metadata": {},
     "output_type": "execute_result"
    }
   ],
   "source": [
    "tf.__version__, tfp.__version__"
   ]
  },
  {
   "cell_type": "code",
   "execution_count": 21,
   "metadata": {},
   "outputs": [],
   "source": [
    "def reshape(x):\n",
    "    \"\"\"\n",
    "    Reshape 1D array into 2D array to make it look like TensorFlow training data.\n",
    "    \"\"\"\n",
    "    return np.array([[value] for value in x])"
   ]
  },
  {
   "cell_type": "code",
   "execution_count": 22,
   "metadata": {
    "scrolled": false
   },
   "outputs": [
    {
     "data": {
      "text/plain": [
       "<tensorflow.python.keras.callbacks.History at 0x7f00f03cca90>"
      ]
     },
     "execution_count": 22,
     "metadata": {},
     "output_type": "execute_result"
    }
   ],
   "source": [
    "x = reshape(x)\n",
    "\n",
    "# build model\n",
    "model = tf.keras.Sequential([\n",
    "  tf.keras.layers.Dense(1),\n",
    "])\n",
    "\n",
    "# compile and fit\n",
    "model.compile(optimizer=tf.optimizers.Adam(learning_rate=0.05), loss='mse')\n",
    "model.fit(x, y, epochs=500, verbose=False)"
   ]
  },
  {
   "cell_type": "code",
   "execution_count": 23,
   "metadata": {},
   "outputs": [
    {
     "name": "stdout",
     "output_type": "stream",
     "text": [
      "Model: \"sequential\"\n",
      "_________________________________________________________________\n",
      "Layer (type)                 Output Shape              Param #   \n",
      "=================================================================\n",
      "dense (Dense)                multiple                  2         \n",
      "=================================================================\n",
      "Total params: 2\n",
      "Trainable params: 2\n",
      "Non-trainable params: 0\n",
      "_________________________________________________________________\n"
     ]
    }
   ],
   "source": [
    "model.summary()"
   ]
  },
  {
   "cell_type": "markdown",
   "metadata": {},
   "source": [
    "This model is fitting 2 parameters $w$ and $b$: $\\hat{y} = w\\hat{x} + b$."
   ]
  },
  {
   "cell_type": "code",
   "execution_count": 24,
   "metadata": {},
   "outputs": [
    {
     "name": "stdout",
     "output_type": "stream",
     "text": [
      "1.0379584\n",
      "0.37574017\n"
     ]
    }
   ],
   "source": [
    "# print values of w and b\n",
    "[print(np.squeeze(w.numpy())) for w in model.weights];"
   ]
  },
  {
   "cell_type": "code",
   "execution_count": 25,
   "metadata": {},
   "outputs": [
    {
     "data": {
      "image/png": "[encoded data removed]",
      "text/plain": [
       "<Figure size 432x288 with 1 Axes>"
      ]
     },
     "metadata": {
      "needs_background": "light"
     },
     "output_type": "display_data"
    }
   ],
   "source": [
    "x_test = reshape(np.linspace(-1.5, 1.5, 100).astype(np.float32))\n",
    "yhat = model(x_test)\n",
    "\n",
    "w = np.squeeze(model.layers[0].kernel.numpy())\n",
    "b = np.squeeze(model.layers[0].bias.numpy())\n",
    "\n",
    "plt.plot(x.squeeze(), y, '.', label='observed')\n",
    "plt.plot(x_test, yhat, label='mean')\n",
    "\n",
    "plt.xlabel('x')\n",
    "plt.ylabel('y')\n",
    "plt.title('MLE from linear regression using TensorFlow');"
   ]
  },
  {
   "cell_type": "markdown",
   "metadata": {},
   "source": [
    "## Linear Regression with uncertainty from Bayesian Neural Network"
   ]
  },
  {
   "cell_type": "markdown",
   "metadata": {},
   "source": [
    "In the framework of machine learning, we want to obtain  the posterior predictive distribution $p(\\hat{y} \\mid \\hat{x}, D) = \\int \\mathrm{d}\\mathbf{w} p(\\hat{y} \\mid \\hat{x}, \\mathbf{w}, D) p(\\mathbf{w} \\mid D)$, where the weights $\\mathbf{w}$ -- which includes the bias terms -- are the model parameters. \n",
    "\n",
    "For a moderately sized neural network, the number of parameters in $\\mathbf{w}$ makes the optimization to obtain $p(\\mathbf{w} \\mid D)$ computationally intractable. So, we would like to approximate $q(\\mathbf{w} \\mid \\mathbf{\\theta}) \\approx p(\\mathbf{w} \\mid D)$, where $\\theta$ is a distribution function (or, model) that is easy to use, e.g., a Gaussian. We want to first train the network to find $q(\\mathbf{w} \\mid \\mathbf{\\theta})$. Then, the posterior predictive distribution $p(\\hat{y} \\mid \\hat{x}, D)$ can be obtained by integrating over $\\mathbf{w}$ through sampling from the $q(\\mathbf{w} \\mid \\mathbf{\\theta})$. \n",
    "\n",
    "Mathematically, the optimization during the training is done to minimize this cost function:\n",
    "\n",
    "$$\n",
    "\\mathcal{F}(\\mathcal{D},\\boldsymbol{\\theta}) = \n",
    "\\mathrm{KL}(q(\\mathbf{w} \\lvert \\boldsymbol{\\theta}) \\mid\\mid p(\\mathbf{w})) -\n",
    "\\mathbb{E}_{q(\\mathbf{w} \\lvert \\boldsymbol{\\theta})} \\log p(\\mathcal{D} \\lvert \\mathbf{w}).\n",
    "$$\n",
    "\n",
    "This cost function is called the **variational free energy**. The Kullback-Leibler divergence term on the right-hand side is called the *complexity cost* and the last term that includes the likelihood $p(D \\mid \\mathbf{w})$ is called the *likelihood cost*.\n",
    "\n",
    "See these references for more mathematics behind the variational free energy:\n",
    "\n",
    "1. Appendix of [this link](https://nbviewer.jupyter.org/github/krasserm/bayesian-machine-learning/blob/master/bayesian_neural_networks.ipynb).\n",
    "2. [This link](https://ermongroup.github.io/cs228-notes/inference/variational/) for a slightly more detailed discussion on the interpreation.\n",
    "3. Appendix B of [this link](https://blog.tensorflow.org/2019/03/regression-with-probabilistic-layers-in.html) for how `DenseVariational` layer from `tensorflow_probability` works to minimize this cost function.\n"
   ]
  },
  {
   "cell_type": "code",
   "execution_count": 26,
   "metadata": {},
   "outputs": [],
   "source": [
    "# Specify the surrogate posterior over `keras.layers.Dense` `kernel` and `bias`.\n",
    "def posterior_mean_field(kernel_size, bias_size=0, dtype=None):\n",
    "    n = kernel_size + bias_size\n",
    "    c = np.log(np.expm1(1.))\n",
    "    \n",
    "    return tf.keras.Sequential([\n",
    "        tfp.layers.VariableLayer(2 * n, dtype=dtype),\n",
    "        tfp.layers.DistributionLambda(lambda t: tfd.Independent(\n",
    "            tfd.Normal(loc=t[..., :n],\n",
    "                       scale=1e-5 + tf.nn.softplus(c + t[..., n:])),\n",
    "            reinterpreted_batch_ndims=1)),\n",
    "    ])\n",
    "\n",
    "# Specify the prior over `keras.layers.Dense` `kernel` and `bias`.\n",
    "def prior_trainable(kernel_size, bias_size=0, dtype=None):\n",
    "    n = kernel_size + bias_size\n",
    "    return tf.keras.Sequential([\n",
    "        tfp.layers.VariableLayer(n, dtype=dtype, trainable=True), # set trainable to False to not optimize the prior\n",
    "        tfp.layers.DistributionLambda(lambda t: tfd.Independent(\n",
    "            tfd.Normal(loc=t, scale=1),\n",
    "            reinterpreted_batch_ndims=1)),\n",
    "])"
   ]
  },
  {
   "cell_type": "code",
   "execution_count": 27,
   "metadata": {},
   "outputs": [],
   "source": [
    "# build model\n",
    "model = tf.keras.Sequential([\n",
    "    tf.keras.layers.Input(shape=(1,)),\n",
    "    tfp.layers.DenseVariational(1, posterior_mean_field, prior_trainable),\n",
    "])\n",
    "\n",
    "# likelihood function\n",
    "def neg_log_likelihood(y_true, y_pred, sigma=y_uncertainty):\n",
    "    dist = tfd.Normal(loc=y_pred, scale=sigma)\n",
    "    return tf.keras.backend.sum(-dist.log_prob(y_true))\n",
    "\n",
    "\n",
    "# fit the model\n",
    "model.compile(optimizer=tf.optimizers.Adam(learning_rate=0.01), loss=neg_log_likelihood)\n",
    "model.fit(x, y, epochs=1000, verbose=False);"
   ]
  },
  {
   "cell_type": "code",
   "execution_count": 28,
   "metadata": {},
   "outputs": [
    {
     "name": "stdout",
     "output_type": "stream",
     "text": [
      "Model: \"sequential_1\"\n",
      "_________________________________________________________________\n",
      "Layer (type)                 Output Shape              Param #   \n",
      "=================================================================\n",
      "dense_variational (DenseVari (None, 1)                 6         \n",
      "=================================================================\n",
      "Total params: 6\n",
      "Trainable params: 6\n",
      "Non-trainable params: 0\n",
      "_________________________________________________________________\n"
     ]
    }
   ],
   "source": [
    "model.summary()"
   ]
  },
  {
   "cell_type": "markdown",
   "metadata": {},
   "source": [
    "This model is fitting 6 parameters: posterior mean, posterior standard deviation, prior mean for each of $w$ and $b$ in $y = w x + b$."
   ]
  },
  {
   "cell_type": "code",
   "execution_count": 29,
   "metadata": {},
   "outputs": [
    {
     "name": "stdout",
     "output_type": "stream",
     "text": [
      "[ 1.0458392   0.36435774 -2.6703074  -2.9498925 ]\n",
      "[1.031915   0.38643047]\n"
     ]
    }
   ],
   "source": [
    "[print(np.squeeze(w.numpy())) for w in model.weights];"
   ]
  },
  {
   "cell_type": "code",
   "execution_count": 30,
   "metadata": {
    "scrolled": false
   },
   "outputs": [
    {
     "data": {
      "application/vnd.jupyter.widget-view+json": {
       "model_id": "ec2a66d904e94564a83ce87af16ed5b3",
       "version_major": 2,
       "version_minor": 0
      },
      "text/plain": [
       "HBox(children=(IntProgress(value=0), HTML(value='')))"
      ]
     },
     "metadata": {},
     "output_type": "display_data"
    },
    {
     "name": "stdout",
     "output_type": "stream",
     "text": [
      "\n"
     ]
    }
   ],
   "source": [
    "y_pred_list = []\n",
    "\n",
    "for i in tqdm.tqdm_notebook(range(100)):\n",
    "    y_pred = model.predict(x_test)\n",
    "    y_pred_list.append(y_pred)\n",
    "\n",
    "y_preds = np.concatenate(y_pred_list, axis=1)\n",
    "y_mean = np.mean(y_preds, axis=1)\n",
    "y_sigma = np.std(y_preds, axis=1)"
   ]
  },
  {
   "cell_type": "code",
   "execution_count": 31,
   "metadata": {},
   "outputs": [
    {
     "data": {
      "image/png": "[encoded data removed]",
      "text/plain": [
       "<Figure size 432x288 with 1 Axes>"
      ]
     },
     "metadata": {
      "needs_background": "light"
     },
     "output_type": "display_data"
    }
   ],
   "source": [
    "plt.errorbar(x, y, yerr=y_uncertainty, marker='o', ls='none', label='Training data', markersize=5)\n",
    "plt.plot(x_test, y_mean, '-', label='Predictive mean');\n",
    "\n",
    "# for _pred in y_pred_list[:10]:\n",
    "#     plt.plot(x_test, _pred, c='grey', alpha=0.8, linewidth=0.5)\n",
    "\n",
    "plt.fill_between(x_test.ravel(),\n",
    "                y_mean + 2*y_sigma,\n",
    "                y_mean - 2*y_sigma,\n",
    "                alpha=0.25, label=r'$2\\sigma$ credible interval', zorder=-20)\n",
    "plt.title('Linear regression pediction with uncertainty from BNN')\n",
    "plt.legend();"
   ]
  },
  {
   "cell_type": "markdown",
   "metadata": {},
   "source": [
    "## BNN for general regression"
   ]
  },
  {
   "cell_type": "markdown",
   "metadata": {},
   "source": [
    "Now, we want to go beyond linear regression with BNN by increasing the number of neurons."
   ]
  },
  {
   "cell_type": "code",
   "execution_count": 32,
   "metadata": {},
   "outputs": [],
   "source": [
    "# Build model.\n",
    "model = tf.keras.Sequential([\n",
    "    tf.keras.layers.Input(shape=(1,)),\n",
    "    tfp.layers.DenseVariational(4, posterior_mean_field, prior_trainable, activation='elu'),\n",
    "    tfp.layers.DenseVariational(1, posterior_mean_field, prior_trainable),\n",
    "])"
   ]
  },
  {
   "cell_type": "code",
   "execution_count": 33,
   "metadata": {},
   "outputs": [],
   "source": [
    "model.compile(loss=neg_log_likelihood, optimizer=tf.optimizers.Adam(lr=0.03), metrics=['mse'])\n",
    "model.fit(x, y, epochs=1500, verbose=0);"
   ]
  },
  {
   "cell_type": "code",
   "execution_count": 34,
   "metadata": {},
   "outputs": [
    {
     "name": "stdout",
     "output_type": "stream",
     "text": [
      "Model: \"sequential_2\"\n",
      "_________________________________________________________________\n",
      "Layer (type)                 Output Shape              Param #   \n",
      "=================================================================\n",
      "dense_variational_1 (DenseVa (None, 4)                 24        \n",
      "_________________________________________________________________\n",
      "dense_variational_2 (DenseVa (None, 1)                 15        \n",
      "=================================================================\n",
      "Total params: 39\n",
      "Trainable params: 39\n",
      "Non-trainable params: 0\n",
      "_________________________________________________________________\n"
     ]
    }
   ],
   "source": [
    "model.summary()"
   ]
  },
  {
   "cell_type": "code",
   "execution_count": 35,
   "metadata": {
    "scrolled": false
   },
   "outputs": [
    {
     "data": {
      "application/vnd.jupyter.widget-view+json": {
       "model_id": "a4e4e0c4a3314b95a230c53e99fe6001",
       "version_major": 2,
       "version_minor": 0
      },
      "text/plain": [
       "HBox(children=(IntProgress(value=0), HTML(value='')))"
      ]
     },
     "metadata": {},
     "output_type": "display_data"
    },
    {
     "name": "stdout",
     "output_type": "stream",
     "text": [
      "\n"
     ]
    }
   ],
   "source": [
    "x_test = np.linspace(-1.5, 1.5, 1000).reshape(-1, 1)\n",
    "y_pred_list = []\n",
    "\n",
    "for i in tqdm.tqdm_notebook(range(100)):\n",
    "    y_pred = model.predict(x_test)\n",
    "    y_pred_list.append(y_pred)\n",
    "\n",
    "y_preds = np.concatenate(y_pred_list, axis=1)\n",
    "y_mean = np.mean(y_preds, axis=1)\n",
    "y_sigma = np.std(y_preds, axis=1)"
   ]
  },
  {
   "cell_type": "code",
   "execution_count": 36,
   "metadata": {},
   "outputs": [
    {
     "data": {
      "image/png": "[encoded data removed]",
      "text/plain": [
       "<Figure size 432x288 with 1 Axes>"
      ]
     },
     "metadata": {
      "needs_background": "light"
     },
     "output_type": "display_data"
    }
   ],
   "source": [
    "plt.errorbar(x, y, yerr=y_uncertainty, marker='o', ls='none', label='Training data', markersize=5)\n",
    "plt.plot(x_test, y_mean, '-', label='Predictive mean');\n",
    "        \n",
    "plt.fill_between(x_test.ravel(),\n",
    "                y_mean + 2*y_sigma,\n",
    "                y_mean - 2*y_sigma,\n",
    "                alpha=0.25, label=r'$2\\sigma$ credible interval', zorder=-20)\n",
    "plt.title('Regression prediction with uncertainty from BNN')\n",
    "plt.legend();"
   ]
  }
 ],
 "metadata": {
  "kernelspec": {
   "display_name": "Python 3.7 (py37)",
   "language": "python",
   "name": "py37"
  },
  "language_info": {
   "codemirror_mode": {
    "name": "ipython",
    "version": 3
   },
   "file_extension": ".py",
   "mimetype": "text/x-python",
   "name": "python",
   "nbconvert_exporter": "python",
   "pygments_lexer": "ipython3",
   "version": "3.7.4"
  }
 },
 "nbformat": 4,
 "nbformat_minor": 4
}
